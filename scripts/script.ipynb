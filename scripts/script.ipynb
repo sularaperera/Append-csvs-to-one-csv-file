{
 "cells": [
  {
   "cell_type": "markdown",
   "id": "96152052-b5b1-466b-a0ce-3cc7cd00a9cb",
   "metadata": {},
   "source": [
    "## importing required libraries"
   ]
  },
  {
   "cell_type": "code",
   "execution_count": 5,
   "id": "215d6c83",
   "metadata": {},
   "outputs": [],
   "source": [
    "import pandas as pd\n",
    "from pathlib import Path\n",
    "import glob\n"
   ]
  },
  {
   "cell_type": "markdown",
   "id": "70d827da-6efd-4ff2-83eb-6e9b4a830434",
   "metadata": {},
   "source": [
    "## get source data folder"
   ]
  },
  {
   "cell_type": "code",
   "execution_count": 6,
   "id": "51565f7b",
   "metadata": {},
   "outputs": [
    {
     "data": {
      "text/plain": [
       "WindowsPath('C:/Users/sular/OneDrive/1.Data Analysis & Engineering/Data Engineering/Data Engineering Projects/Append-csvs-to-one-csv-file/data/1.raw-bronze')"
      ]
     },
     "execution_count": 6,
     "metadata": {},
     "output_type": "execute_result"
    }
   ],
   "source": [
    "folder_path = Path(r'C:\\Users\\sular\\OneDrive\\1.Data Analysis & Engineering\\Data Engineering\\Data Engineering Projects\\Append-csvs-to-one-csv-file\\data\\1.raw-bronze')\n",
    "folder_path"
   ]
  },
  {
   "cell_type": "markdown",
   "id": "7ab8c9f7-ee9f-4941-b82e-b11dda027080",
   "metadata": {},
   "source": [
    "## use glob & rglob modules to fetch all .csv files in folder(s) and subfolder(s)"
   ]
  },
  {
   "cell_type": "code",
   "execution_count": 7,
   "id": "fef0ca1b",
   "metadata": {},
   "outputs": [
    {
     "data": {
      "text/plain": [
       "102"
      ]
     },
     "execution_count": 7,
     "metadata": {},
     "output_type": "execute_result"
    }
   ],
   "source": [
    "#rglob is a handy function to fetch all files end with .csv\n",
    "folder_path.rglob(\"*.csv\")\n",
    "\n",
    "all_files = list(folder_path.rglob(\"*.csv\"))\n",
    "#all_files\n",
    "len(all_files)"
   ]
  },
  {
   "cell_type": "code",
   "execution_count": 8,
   "id": "6606bc52",
   "metadata": {},
   "outputs": [
    {
     "data": {
      "text/plain": [
       "[WindowsPath('C:/Users/sular/OneDrive/1.Data Analysis & Engineering/Data Engineering/Data Engineering Projects/Append-csvs-to-one-csv-file/data/1.raw-bronze/2015/Customer_Orders_Extract_01_01_2015_31_01_2015.csv'),\n",
       " WindowsPath('C:/Users/sular/OneDrive/1.Data Analysis & Engineering/Data Engineering/Data Engineering Projects/Append-csvs-to-one-csv-file/data/1.raw-bronze/2015/Customer_Orders_Extract_01_02_2015_28_02_2015.csv'),\n",
       " WindowsPath('C:/Users/sular/OneDrive/1.Data Analysis & Engineering/Data Engineering/Data Engineering Projects/Append-csvs-to-one-csv-file/data/1.raw-bronze/2015/Customer_Orders_Extract_01_03_2015_31_03_2015.csv'),\n",
       " WindowsPath('C:/Users/sular/OneDrive/1.Data Analysis & Engineering/Data Engineering/Data Engineering Projects/Append-csvs-to-one-csv-file/data/1.raw-bronze/2015/Customer_Orders_Extract_01_04_2015_30_04_2015.csv'),\n",
       " WindowsPath('C:/Users/sular/OneDrive/1.Data Analysis & Engineering/Data Engineering/Data Engineering Projects/Append-csvs-to-one-csv-file/data/1.raw-bronze/2015/Customer_Orders_Extract_01_05_2015_31_05_2015.csv'),\n",
       " WindowsPath('C:/Users/sular/OneDrive/1.Data Analysis & Engineering/Data Engineering/Data Engineering Projects/Append-csvs-to-one-csv-file/data/1.raw-bronze/2015/Customer_Orders_Extract_01_06_2015_30_06_2015.csv'),\n",
       " WindowsPath('C:/Users/sular/OneDrive/1.Data Analysis & Engineering/Data Engineering/Data Engineering Projects/Append-csvs-to-one-csv-file/data/1.raw-bronze/2015/Customer_Orders_Extract_01_07_2015_31_07_2015.csv'),\n",
       " WindowsPath('C:/Users/sular/OneDrive/1.Data Analysis & Engineering/Data Engineering/Data Engineering Projects/Append-csvs-to-one-csv-file/data/1.raw-bronze/2015/Customer_Orders_Extract_01_08_2015_31_08_2015.csv'),\n",
       " WindowsPath('C:/Users/sular/OneDrive/1.Data Analysis & Engineering/Data Engineering/Data Engineering Projects/Append-csvs-to-one-csv-file/data/1.raw-bronze/2015/Customer_Orders_Extract_01_09_2015_30_09_2015.csv'),\n",
       " WindowsPath('C:/Users/sular/OneDrive/1.Data Analysis & Engineering/Data Engineering/Data Engineering Projects/Append-csvs-to-one-csv-file/data/1.raw-bronze/2015/Customer_Orders_Extract_01_10_2015_31_10_2015.csv'),\n",
       " WindowsPath('C:/Users/sular/OneDrive/1.Data Analysis & Engineering/Data Engineering/Data Engineering Projects/Append-csvs-to-one-csv-file/data/1.raw-bronze/2015/Customer_Orders_Extract_01_11_2015_30_11_2015.csv'),\n",
       " WindowsPath('C:/Users/sular/OneDrive/1.Data Analysis & Engineering/Data Engineering/Data Engineering Projects/Append-csvs-to-one-csv-file/data/1.raw-bronze/2015/Customer_Orders_Extract_01_12_2015_31_12_2015.csv'),\n",
       " WindowsPath('C:/Users/sular/OneDrive/1.Data Analysis & Engineering/Data Engineering/Data Engineering Projects/Append-csvs-to-one-csv-file/data/1.raw-bronze/2016/Customer_Orders_Extract_01_01_2016_31_01_2016.csv'),\n",
       " WindowsPath('C:/Users/sular/OneDrive/1.Data Analysis & Engineering/Data Engineering/Data Engineering Projects/Append-csvs-to-one-csv-file/data/1.raw-bronze/2016/Customer_Orders_Extract_01_02_2016_29_02_2016.csv'),\n",
       " WindowsPath('C:/Users/sular/OneDrive/1.Data Analysis & Engineering/Data Engineering/Data Engineering Projects/Append-csvs-to-one-csv-file/data/1.raw-bronze/2016/Customer_Orders_Extract_01_03_2016_31_03_2016.csv'),\n",
       " WindowsPath('C:/Users/sular/OneDrive/1.Data Analysis & Engineering/Data Engineering/Data Engineering Projects/Append-csvs-to-one-csv-file/data/1.raw-bronze/2016/Customer_Orders_Extract_01_04_2016_30_04_2016.csv'),\n",
       " WindowsPath('C:/Users/sular/OneDrive/1.Data Analysis & Engineering/Data Engineering/Data Engineering Projects/Append-csvs-to-one-csv-file/data/1.raw-bronze/2016/Customer_Orders_Extract_01_05_2016_31_05_2016.csv'),\n",
       " WindowsPath('C:/Users/sular/OneDrive/1.Data Analysis & Engineering/Data Engineering/Data Engineering Projects/Append-csvs-to-one-csv-file/data/1.raw-bronze/2016/Customer_Orders_Extract_01_06_2016_30_06_2016.csv'),\n",
       " WindowsPath('C:/Users/sular/OneDrive/1.Data Analysis & Engineering/Data Engineering/Data Engineering Projects/Append-csvs-to-one-csv-file/data/1.raw-bronze/2016/Customer_Orders_Extract_01_07_2016_31_07_2016.csv'),\n",
       " WindowsPath('C:/Users/sular/OneDrive/1.Data Analysis & Engineering/Data Engineering/Data Engineering Projects/Append-csvs-to-one-csv-file/data/1.raw-bronze/2016/Customer_Orders_Extract_01_08_2016_31_08_2016.csv'),\n",
       " WindowsPath('C:/Users/sular/OneDrive/1.Data Analysis & Engineering/Data Engineering/Data Engineering Projects/Append-csvs-to-one-csv-file/data/1.raw-bronze/2016/Customer_Orders_Extract_01_09_2016_30_09_2016.csv'),\n",
       " WindowsPath('C:/Users/sular/OneDrive/1.Data Analysis & Engineering/Data Engineering/Data Engineering Projects/Append-csvs-to-one-csv-file/data/1.raw-bronze/2016/Customer_Orders_Extract_01_10_2016_31_10_2016.csv'),\n",
       " WindowsPath('C:/Users/sular/OneDrive/1.Data Analysis & Engineering/Data Engineering/Data Engineering Projects/Append-csvs-to-one-csv-file/data/1.raw-bronze/2016/Customer_Orders_Extract_01_11_2016_30_11_2016.csv'),\n",
       " WindowsPath('C:/Users/sular/OneDrive/1.Data Analysis & Engineering/Data Engineering/Data Engineering Projects/Append-csvs-to-one-csv-file/data/1.raw-bronze/2016/Customer_Orders_Extract_01_12_2016_31_12_2016.csv'),\n",
       " WindowsPath('C:/Users/sular/OneDrive/1.Data Analysis & Engineering/Data Engineering/Data Engineering Projects/Append-csvs-to-one-csv-file/data/1.raw-bronze/2017/Customer_Orders_Extract_01_01_2017_31_01_2017.csv'),\n",
       " WindowsPath('C:/Users/sular/OneDrive/1.Data Analysis & Engineering/Data Engineering/Data Engineering Projects/Append-csvs-to-one-csv-file/data/1.raw-bronze/2017/Customer_Orders_Extract_01_02_2017_28_02_2017.csv'),\n",
       " WindowsPath('C:/Users/sular/OneDrive/1.Data Analysis & Engineering/Data Engineering/Data Engineering Projects/Append-csvs-to-one-csv-file/data/1.raw-bronze/2017/Customer_Orders_Extract_01_03_2017_31_03_2017.csv'),\n",
       " WindowsPath('C:/Users/sular/OneDrive/1.Data Analysis & Engineering/Data Engineering/Data Engineering Projects/Append-csvs-to-one-csv-file/data/1.raw-bronze/2017/Customer_Orders_Extract_01_04_2017_30_04_2017.csv'),\n",
       " WindowsPath('C:/Users/sular/OneDrive/1.Data Analysis & Engineering/Data Engineering/Data Engineering Projects/Append-csvs-to-one-csv-file/data/1.raw-bronze/2017/Customer_Orders_Extract_01_05_2017_31_05_2017.csv'),\n",
       " WindowsPath('C:/Users/sular/OneDrive/1.Data Analysis & Engineering/Data Engineering/Data Engineering Projects/Append-csvs-to-one-csv-file/data/1.raw-bronze/2017/Customer_Orders_Extract_01_06_2017_30_06_2017.csv'),\n",
       " WindowsPath('C:/Users/sular/OneDrive/1.Data Analysis & Engineering/Data Engineering/Data Engineering Projects/Append-csvs-to-one-csv-file/data/1.raw-bronze/2017/Customer_Orders_Extract_01_07_2017_31_07_2017.csv'),\n",
       " WindowsPath('C:/Users/sular/OneDrive/1.Data Analysis & Engineering/Data Engineering/Data Engineering Projects/Append-csvs-to-one-csv-file/data/1.raw-bronze/2017/Customer_Orders_Extract_01_08_2017_31_08_2017.csv'),\n",
       " WindowsPath('C:/Users/sular/OneDrive/1.Data Analysis & Engineering/Data Engineering/Data Engineering Projects/Append-csvs-to-one-csv-file/data/1.raw-bronze/2017/Customer_Orders_Extract_01_09_2017_30_09_2017.csv'),\n",
       " WindowsPath('C:/Users/sular/OneDrive/1.Data Analysis & Engineering/Data Engineering/Data Engineering Projects/Append-csvs-to-one-csv-file/data/1.raw-bronze/2017/Customer_Orders_Extract_01_10_2017_31_10_2017.csv'),\n",
       " WindowsPath('C:/Users/sular/OneDrive/1.Data Analysis & Engineering/Data Engineering/Data Engineering Projects/Append-csvs-to-one-csv-file/data/1.raw-bronze/2017/Customer_Orders_Extract_01_11_2017_30_11_2017.csv'),\n",
       " WindowsPath('C:/Users/sular/OneDrive/1.Data Analysis & Engineering/Data Engineering/Data Engineering Projects/Append-csvs-to-one-csv-file/data/1.raw-bronze/2017/Customer_Orders_Extract_01_12_2017_31_12_2017.csv'),\n",
       " WindowsPath('C:/Users/sular/OneDrive/1.Data Analysis & Engineering/Data Engineering/Data Engineering Projects/Append-csvs-to-one-csv-file/data/1.raw-bronze/2018/Customer_Orders_Extract_01_01_2018_31_01_2018.csv'),\n",
       " WindowsPath('C:/Users/sular/OneDrive/1.Data Analysis & Engineering/Data Engineering/Data Engineering Projects/Append-csvs-to-one-csv-file/data/1.raw-bronze/2018/Customer_Orders_Extract_01_02_2018_28_02_2018.csv'),\n",
       " WindowsPath('C:/Users/sular/OneDrive/1.Data Analysis & Engineering/Data Engineering/Data Engineering Projects/Append-csvs-to-one-csv-file/data/1.raw-bronze/2018/Customer_Orders_Extract_01_03_2018_31_03_2018.csv'),\n",
       " WindowsPath('C:/Users/sular/OneDrive/1.Data Analysis & Engineering/Data Engineering/Data Engineering Projects/Append-csvs-to-one-csv-file/data/1.raw-bronze/2018/Customer_Orders_Extract_01_04_2018_30_04_2018.csv'),\n",
       " WindowsPath('C:/Users/sular/OneDrive/1.Data Analysis & Engineering/Data Engineering/Data Engineering Projects/Append-csvs-to-one-csv-file/data/1.raw-bronze/2018/Customer_Orders_Extract_01_05_2018_31_05_2018.csv'),\n",
       " WindowsPath('C:/Users/sular/OneDrive/1.Data Analysis & Engineering/Data Engineering/Data Engineering Projects/Append-csvs-to-one-csv-file/data/1.raw-bronze/2018/Customer_Orders_Extract_01_06_2018_30_06_2018.csv'),\n",
       " WindowsPath('C:/Users/sular/OneDrive/1.Data Analysis & Engineering/Data Engineering/Data Engineering Projects/Append-csvs-to-one-csv-file/data/1.raw-bronze/2018/Customer_Orders_Extract_01_07_2018_31_07_2018.csv'),\n",
       " WindowsPath('C:/Users/sular/OneDrive/1.Data Analysis & Engineering/Data Engineering/Data Engineering Projects/Append-csvs-to-one-csv-file/data/1.raw-bronze/2018/Customer_Orders_Extract_01_08_2018_31_08_2018.csv'),\n",
       " WindowsPath('C:/Users/sular/OneDrive/1.Data Analysis & Engineering/Data Engineering/Data Engineering Projects/Append-csvs-to-one-csv-file/data/1.raw-bronze/2018/Customer_Orders_Extract_01_09_2018_30_09_2018.csv'),\n",
       " WindowsPath('C:/Users/sular/OneDrive/1.Data Analysis & Engineering/Data Engineering/Data Engineering Projects/Append-csvs-to-one-csv-file/data/1.raw-bronze/2018/Customer_Orders_Extract_01_10_2018_31_10_2018.csv'),\n",
       " WindowsPath('C:/Users/sular/OneDrive/1.Data Analysis & Engineering/Data Engineering/Data Engineering Projects/Append-csvs-to-one-csv-file/data/1.raw-bronze/2018/Customer_Orders_Extract_01_11_2018_30_11_2018.csv'),\n",
       " WindowsPath('C:/Users/sular/OneDrive/1.Data Analysis & Engineering/Data Engineering/Data Engineering Projects/Append-csvs-to-one-csv-file/data/1.raw-bronze/2018/Customer_Orders_Extract_01_12_2018_31_12_2018.csv'),\n",
       " WindowsPath('C:/Users/sular/OneDrive/1.Data Analysis & Engineering/Data Engineering/Data Engineering Projects/Append-csvs-to-one-csv-file/data/1.raw-bronze/2019/Customer_Orders_Extract_01_01_2019_31_01_2019.csv'),\n",
       " WindowsPath('C:/Users/sular/OneDrive/1.Data Analysis & Engineering/Data Engineering/Data Engineering Projects/Append-csvs-to-one-csv-file/data/1.raw-bronze/2019/Customer_Orders_Extract_01_02_2019_28_02_2019.csv'),\n",
       " WindowsPath('C:/Users/sular/OneDrive/1.Data Analysis & Engineering/Data Engineering/Data Engineering Projects/Append-csvs-to-one-csv-file/data/1.raw-bronze/2019/Customer_Orders_Extract_01_03_2019_31_03_2019.csv'),\n",
       " WindowsPath('C:/Users/sular/OneDrive/1.Data Analysis & Engineering/Data Engineering/Data Engineering Projects/Append-csvs-to-one-csv-file/data/1.raw-bronze/2019/Customer_Orders_Extract_01_04_2019_30_04_2019.csv'),\n",
       " WindowsPath('C:/Users/sular/OneDrive/1.Data Analysis & Engineering/Data Engineering/Data Engineering Projects/Append-csvs-to-one-csv-file/data/1.raw-bronze/2019/Customer_Orders_Extract_01_05_2019_31_05_2019.csv'),\n",
       " WindowsPath('C:/Users/sular/OneDrive/1.Data Analysis & Engineering/Data Engineering/Data Engineering Projects/Append-csvs-to-one-csv-file/data/1.raw-bronze/2019/Customer_Orders_Extract_01_06_2019_30_06_2019.csv'),\n",
       " WindowsPath('C:/Users/sular/OneDrive/1.Data Analysis & Engineering/Data Engineering/Data Engineering Projects/Append-csvs-to-one-csv-file/data/1.raw-bronze/2019/Customer_Orders_Extract_01_07_2019_31_07_2019.csv'),\n",
       " WindowsPath('C:/Users/sular/OneDrive/1.Data Analysis & Engineering/Data Engineering/Data Engineering Projects/Append-csvs-to-one-csv-file/data/1.raw-bronze/2019/Customer_Orders_Extract_01_08_2019_31_08_2019.csv'),\n",
       " WindowsPath('C:/Users/sular/OneDrive/1.Data Analysis & Engineering/Data Engineering/Data Engineering Projects/Append-csvs-to-one-csv-file/data/1.raw-bronze/2019/Customer_Orders_Extract_01_09_2019_30_09_2019.csv'),\n",
       " WindowsPath('C:/Users/sular/OneDrive/1.Data Analysis & Engineering/Data Engineering/Data Engineering Projects/Append-csvs-to-one-csv-file/data/1.raw-bronze/2019/Customer_Orders_Extract_01_10_2019_31_10_2019.csv'),\n",
       " WindowsPath('C:/Users/sular/OneDrive/1.Data Analysis & Engineering/Data Engineering/Data Engineering Projects/Append-csvs-to-one-csv-file/data/1.raw-bronze/2019/Customer_Orders_Extract_01_11_2019_30_11_2019.csv'),\n",
       " WindowsPath('C:/Users/sular/OneDrive/1.Data Analysis & Engineering/Data Engineering/Data Engineering Projects/Append-csvs-to-one-csv-file/data/1.raw-bronze/2019/Customer_Orders_Extract_01_12_2019_31_12_2019.csv'),\n",
       " WindowsPath('C:/Users/sular/OneDrive/1.Data Analysis & Engineering/Data Engineering/Data Engineering Projects/Append-csvs-to-one-csv-file/data/1.raw-bronze/2020/Customer_Orders_Extract_01_01_2020_31_01_2020.csv'),\n",
       " WindowsPath('C:/Users/sular/OneDrive/1.Data Analysis & Engineering/Data Engineering/Data Engineering Projects/Append-csvs-to-one-csv-file/data/1.raw-bronze/2020/Customer_Orders_Extract_01_02_2020_29_02_2020.csv'),\n",
       " WindowsPath('C:/Users/sular/OneDrive/1.Data Analysis & Engineering/Data Engineering/Data Engineering Projects/Append-csvs-to-one-csv-file/data/1.raw-bronze/2020/Customer_Orders_Extract_01_03_2020_31_03_2020.csv'),\n",
       " WindowsPath('C:/Users/sular/OneDrive/1.Data Analysis & Engineering/Data Engineering/Data Engineering Projects/Append-csvs-to-one-csv-file/data/1.raw-bronze/2020/Customer_Orders_Extract_01_04_2020_30_04_2020.csv'),\n",
       " WindowsPath('C:/Users/sular/OneDrive/1.Data Analysis & Engineering/Data Engineering/Data Engineering Projects/Append-csvs-to-one-csv-file/data/1.raw-bronze/2020/Customer_Orders_Extract_01_05_2020_31_05_2020.csv'),\n",
       " WindowsPath('C:/Users/sular/OneDrive/1.Data Analysis & Engineering/Data Engineering/Data Engineering Projects/Append-csvs-to-one-csv-file/data/1.raw-bronze/2020/Customer_Orders_Extract_01_06_2020_30_06_2020.csv'),\n",
       " WindowsPath('C:/Users/sular/OneDrive/1.Data Analysis & Engineering/Data Engineering/Data Engineering Projects/Append-csvs-to-one-csv-file/data/1.raw-bronze/2020/Customer_Orders_Extract_01_07_2020_31_07_2020.csv'),\n",
       " WindowsPath('C:/Users/sular/OneDrive/1.Data Analysis & Engineering/Data Engineering/Data Engineering Projects/Append-csvs-to-one-csv-file/data/1.raw-bronze/2020/Customer_Orders_Extract_01_08_2020_31_08_2020.csv'),\n",
       " WindowsPath('C:/Users/sular/OneDrive/1.Data Analysis & Engineering/Data Engineering/Data Engineering Projects/Append-csvs-to-one-csv-file/data/1.raw-bronze/2020/Customer_Orders_Extract_01_09_2020_30_09_2020.csv'),\n",
       " WindowsPath('C:/Users/sular/OneDrive/1.Data Analysis & Engineering/Data Engineering/Data Engineering Projects/Append-csvs-to-one-csv-file/data/1.raw-bronze/2020/Customer_Orders_Extract_01_10_2020_31_10_2020.csv'),\n",
       " WindowsPath('C:/Users/sular/OneDrive/1.Data Analysis & Engineering/Data Engineering/Data Engineering Projects/Append-csvs-to-one-csv-file/data/1.raw-bronze/2020/Customer_Orders_Extract_01_11_2020_30_11_2020.csv'),\n",
       " WindowsPath('C:/Users/sular/OneDrive/1.Data Analysis & Engineering/Data Engineering/Data Engineering Projects/Append-csvs-to-one-csv-file/data/1.raw-bronze/2020/Customer_Orders_Extract_01_12_2020_31_12_2020.csv'),\n",
       " WindowsPath('C:/Users/sular/OneDrive/1.Data Analysis & Engineering/Data Engineering/Data Engineering Projects/Append-csvs-to-one-csv-file/data/1.raw-bronze/2021/Customer_Orders_Extract_01_01_2021_31_01_2021.csv'),\n",
       " WindowsPath('C:/Users/sular/OneDrive/1.Data Analysis & Engineering/Data Engineering/Data Engineering Projects/Append-csvs-to-one-csv-file/data/1.raw-bronze/2021/Customer_Orders_Extract_01_02_2021_28_02_2021.csv'),\n",
       " WindowsPath('C:/Users/sular/OneDrive/1.Data Analysis & Engineering/Data Engineering/Data Engineering Projects/Append-csvs-to-one-csv-file/data/1.raw-bronze/2021/Customer_Orders_Extract_01_03_2021_31_03_2021.csv'),\n",
       " WindowsPath('C:/Users/sular/OneDrive/1.Data Analysis & Engineering/Data Engineering/Data Engineering Projects/Append-csvs-to-one-csv-file/data/1.raw-bronze/2021/Customer_Orders_Extract_01_04_2021_30_04_2021.csv'),\n",
       " WindowsPath('C:/Users/sular/OneDrive/1.Data Analysis & Engineering/Data Engineering/Data Engineering Projects/Append-csvs-to-one-csv-file/data/1.raw-bronze/2021/Customer_Orders_Extract_01_05_2021_31_05_2021.csv'),\n",
       " WindowsPath('C:/Users/sular/OneDrive/1.Data Analysis & Engineering/Data Engineering/Data Engineering Projects/Append-csvs-to-one-csv-file/data/1.raw-bronze/2021/Customer_Orders_Extract_01_06_2021_30_06_2021.csv'),\n",
       " WindowsPath('C:/Users/sular/OneDrive/1.Data Analysis & Engineering/Data Engineering/Data Engineering Projects/Append-csvs-to-one-csv-file/data/1.raw-bronze/2021/Customer_Orders_Extract_01_07_2021_31_07_2021.csv'),\n",
       " WindowsPath('C:/Users/sular/OneDrive/1.Data Analysis & Engineering/Data Engineering/Data Engineering Projects/Append-csvs-to-one-csv-file/data/1.raw-bronze/2021/Customer_Orders_Extract_01_08_2021_31_08_2021.csv'),\n",
       " WindowsPath('C:/Users/sular/OneDrive/1.Data Analysis & Engineering/Data Engineering/Data Engineering Projects/Append-csvs-to-one-csv-file/data/1.raw-bronze/2021/Customer_Orders_Extract_01_09_2021_30_09_2021.csv'),\n",
       " WindowsPath('C:/Users/sular/OneDrive/1.Data Analysis & Engineering/Data Engineering/Data Engineering Projects/Append-csvs-to-one-csv-file/data/1.raw-bronze/2021/Customer_Orders_Extract_01_10_2021_31_10_2021.csv'),\n",
       " WindowsPath('C:/Users/sular/OneDrive/1.Data Analysis & Engineering/Data Engineering/Data Engineering Projects/Append-csvs-to-one-csv-file/data/1.raw-bronze/2021/Customer_Orders_Extract_01_11_2021_30_11_2021.csv'),\n",
       " WindowsPath('C:/Users/sular/OneDrive/1.Data Analysis & Engineering/Data Engineering/Data Engineering Projects/Append-csvs-to-one-csv-file/data/1.raw-bronze/2021/Customer_Orders_Extract_01_12_2021_31_12_2021.csv'),\n",
       " WindowsPath('C:/Users/sular/OneDrive/1.Data Analysis & Engineering/Data Engineering/Data Engineering Projects/Append-csvs-to-one-csv-file/data/1.raw-bronze/2022/Customer_Orders_Extract_01_01_2022_31_01_2022.csv'),\n",
       " WindowsPath('C:/Users/sular/OneDrive/1.Data Analysis & Engineering/Data Engineering/Data Engineering Projects/Append-csvs-to-one-csv-file/data/1.raw-bronze/2022/Customer_Orders_Extract_01_02_2022_28_02_2022.csv'),\n",
       " WindowsPath('C:/Users/sular/OneDrive/1.Data Analysis & Engineering/Data Engineering/Data Engineering Projects/Append-csvs-to-one-csv-file/data/1.raw-bronze/2022/Customer_Orders_Extract_01_03_2022_31_03_2022.csv'),\n",
       " WindowsPath('C:/Users/sular/OneDrive/1.Data Analysis & Engineering/Data Engineering/Data Engineering Projects/Append-csvs-to-one-csv-file/data/1.raw-bronze/2022/Customer_Orders_Extract_01_04_2022_30_04_2022.csv'),\n",
       " WindowsPath('C:/Users/sular/OneDrive/1.Data Analysis & Engineering/Data Engineering/Data Engineering Projects/Append-csvs-to-one-csv-file/data/1.raw-bronze/2022/Customer_Orders_Extract_01_05_2022_31_05_2022.csv'),\n",
       " WindowsPath('C:/Users/sular/OneDrive/1.Data Analysis & Engineering/Data Engineering/Data Engineering Projects/Append-csvs-to-one-csv-file/data/1.raw-bronze/2022/Customer_Orders_Extract_01_06_2022_30_06_2022.csv'),\n",
       " WindowsPath('C:/Users/sular/OneDrive/1.Data Analysis & Engineering/Data Engineering/Data Engineering Projects/Append-csvs-to-one-csv-file/data/1.raw-bronze/2022/Customer_Orders_Extract_01_07_2022_31_07_2022.csv'),\n",
       " WindowsPath('C:/Users/sular/OneDrive/1.Data Analysis & Engineering/Data Engineering/Data Engineering Projects/Append-csvs-to-one-csv-file/data/1.raw-bronze/2022/Customer_Orders_Extract_01_08_2022_31_08_2022.csv'),\n",
       " WindowsPath('C:/Users/sular/OneDrive/1.Data Analysis & Engineering/Data Engineering/Data Engineering Projects/Append-csvs-to-one-csv-file/data/1.raw-bronze/2022/Customer_Orders_Extract_01_09_2022_30_09_2022.csv'),\n",
       " WindowsPath('C:/Users/sular/OneDrive/1.Data Analysis & Engineering/Data Engineering/Data Engineering Projects/Append-csvs-to-one-csv-file/data/1.raw-bronze/2022/Customer_Orders_Extract_01_10_2022_31_10_2022.csv'),\n",
       " WindowsPath('C:/Users/sular/OneDrive/1.Data Analysis & Engineering/Data Engineering/Data Engineering Projects/Append-csvs-to-one-csv-file/data/1.raw-bronze/2022/Customer_Orders_Extract_01_11_2022_30_11_2022.csv'),\n",
       " WindowsPath('C:/Users/sular/OneDrive/1.Data Analysis & Engineering/Data Engineering/Data Engineering Projects/Append-csvs-to-one-csv-file/data/1.raw-bronze/2022/Customer_Orders_Extract_01_12_2022_31_12_2022.csv'),\n",
       " WindowsPath('C:/Users/sular/OneDrive/1.Data Analysis & Engineering/Data Engineering/Data Engineering Projects/Append-csvs-to-one-csv-file/data/1.raw-bronze/2023/Customer_Orders_Extract_01_01_2023_31_01_2023.csv'),\n",
       " WindowsPath('C:/Users/sular/OneDrive/1.Data Analysis & Engineering/Data Engineering/Data Engineering Projects/Append-csvs-to-one-csv-file/data/1.raw-bronze/2023/Customer_Orders_Extract_01_02_2023_28_02_2023.csv'),\n",
       " WindowsPath('C:/Users/sular/OneDrive/1.Data Analysis & Engineering/Data Engineering/Data Engineering Projects/Append-csvs-to-one-csv-file/data/1.raw-bronze/2023/Customer_Orders_Extract_01_03_2023_31_03_2023.csv'),\n",
       " WindowsPath('C:/Users/sular/OneDrive/1.Data Analysis & Engineering/Data Engineering/Data Engineering Projects/Append-csvs-to-one-csv-file/data/1.raw-bronze/2023/Customer_Orders_Extract_01_04_2023_30_04_2023.csv'),\n",
       " WindowsPath('C:/Users/sular/OneDrive/1.Data Analysis & Engineering/Data Engineering/Data Engineering Projects/Append-csvs-to-one-csv-file/data/1.raw-bronze/2023/Customer_Orders_Extract_01_05_2023_31_05_2023.csv'),\n",
       " WindowsPath('C:/Users/sular/OneDrive/1.Data Analysis & Engineering/Data Engineering/Data Engineering Projects/Append-csvs-to-one-csv-file/data/1.raw-bronze/2023/Customer_Orders_Extract_01_06_2023_30_06_2023.csv')]"
      ]
     },
     "execution_count": 8,
     "metadata": {},
     "output_type": "execute_result"
    }
   ],
   "source": [
    "all_files"
   ]
  },
  {
   "cell_type": "code",
   "execution_count": 9,
   "id": "759561c0",
   "metadata": {},
   "outputs": [],
   "source": [
    "# create empty list\n",
    "full_df = []\n",
    "\n",
    "# iterate through each file\n",
    "for file in all_files:\n",
    "    # Read each csv file into a dataframe\n",
    "    df = pd.read_csv(file, usecols=['Customer Id','Account Name','Account Contact Email','Street','Suburb','City','Order No','Delivery Date','Status Type','Units','Sku','Product Title ','Ordered','Packed','Buy Price','Truck No','Driver Returned','Temperature','Frozen Temperature','Product Type']) # fetching only the required columns\n",
    "\n",
    "    # Renaming columns using a dictionary\n",
    "    new_cols_dict = {\n",
    "    'Customer Id':'Customer_Id',\n",
    "    'Account Name':'Customer_Name',\n",
    "    'Account Contact Email':'Customer_Email',\n",
    "    'Street':'Street_Address',\n",
    "    'Suburb':'Suburb',\n",
    "    'City':'City',\n",
    "    'Order No':'Order_Number',\n",
    "    'Delivery Date':'Delivery_Date',\n",
    "    'Status Type':'Order_Status',\n",
    "    'Units':'Units',\n",
    "    'Sku':'Product_Id',\n",
    "    'Product Title ':'Product_Name',\n",
    "    'Ordered':'Quantity_Ordered',\n",
    "    'Packed':'Quantity_Delivered',\n",
    "    'Buy Price':'Price',\n",
    "    'Truck No':'Delivery_Run',\n",
    "    'Driver Returned':'Return_Quantity',\n",
    "    'Temperature':'Chilled_Temp',\n",
    "    'Frozen Temperature':'Frozen_Temp',\n",
    "    'Product Type':'Product_Category'}\n",
    "    df_renamed = df.rename(new_cols_dict, axis='columns')\n",
    "    \n",
    "    # Append each dataframe into the list - full_df[]\n",
    "    full_df.append(df_renamed)\n"
   ]
  },
  {
   "cell_type": "markdown",
   "id": "1172fe92-57ae-49ff-ba03-9693bc050860",
   "metadata": {
    "tags": []
   },
   "source": [
    "## Concatenanting all data frames in the list into one"
   ]
  },
  {
   "cell_type": "code",
   "execution_count": 10,
   "id": "068c78e7",
   "metadata": {},
   "outputs": [
    {
     "data": {
      "text/plain": [
       "(2821366, 20)"
      ]
     },
     "execution_count": 10,
     "metadata": {},
     "output_type": "execute_result"
    }
   ],
   "source": [
    "#Concatenanting all data frames to one df using pd.concat()\n",
    "finaldf = pd.concat(full_df, ignore_index=True)\n",
    "finaldf.shape"
   ]
  },
  {
   "cell_type": "code",
   "execution_count": 11,
   "id": "2d0a2e84",
   "metadata": {},
   "outputs": [
    {
     "data": {
      "text/plain": [
       "Customer_Id             int64\n",
       "Customer_Name          object\n",
       "Customer_Email         object\n",
       "Street_Address         object\n",
       "Suburb                 object\n",
       "City                   object\n",
       "Order_Number            int64\n",
       "Delivery_Date          object\n",
       "Order_Status           object\n",
       "Units                 float64\n",
       "Product_Id             object\n",
       "Product_Name           object\n",
       "Quantity_Ordered      float64\n",
       "Quantity_Delivered    float64\n",
       "Price                 float64\n",
       "Delivery_Run          float64\n",
       "Return_Quantity       float64\n",
       "Chilled_Temp          float64\n",
       "Frozen_Temp           float64\n",
       "Product_Category       object\n",
       "dtype: object"
      ]
     },
     "execution_count": 11,
     "metadata": {},
     "output_type": "execute_result"
    }
   ],
   "source": [
    "finaldf.dtypes"
   ]
  },
  {
   "cell_type": "markdown",
   "id": "1e31ded0-6e75-4d53-8bb0-d0ac18cf0a0e",
   "metadata": {
    "tags": []
   },
   "source": [
    "## Exporting full dataframe to .csv file"
   ]
  },
  {
   "cell_type": "code",
   "execution_count": 12,
   "id": "7ba442a0",
   "metadata": {},
   "outputs": [
    {
     "data": {
      "text/plain": [
       "WindowsPath('C:/Users/sular/OneDrive/1.Data Analysis & Engineering/Data Engineering/Data Engineering Projects/Append-csvs-to-one-csv-file/data/2.processed-silver')"
      ]
     },
     "execution_count": 12,
     "metadata": {},
     "output_type": "execute_result"
    }
   ],
   "source": [
    "# Exporting finaldf to a csv file\n",
    "folder_path = Path(r'C:\\Users\\sular\\OneDrive\\1.Data Analysis & Engineering\\Data Engineering\\Data Engineering Projects\\Append-csvs-to-one-csv-file\\data\\2.processed-silver')\n",
    "folder_path"
   ]
  },
  {
   "cell_type": "code",
   "execution_count": 13,
   "id": "02206ddc",
   "metadata": {},
   "outputs": [],
   "source": [
    "file_path = folder_path / \"Master_Sales_File.csv\""
   ]
  },
  {
   "cell_type": "code",
   "execution_count": 14,
   "id": "4d868d99",
   "metadata": {},
   "outputs": [],
   "source": [
    "finaldf.to_csv(file_path, index=False)"
   ]
  }
 ],
 "metadata": {
  "kernelspec": {
   "display_name": "Python 3 (ipykernel)",
   "language": "python",
   "name": "python3"
  },
  "language_info": {
   "codemirror_mode": {
    "name": "ipython",
    "version": 3
   },
   "file_extension": ".py",
   "mimetype": "text/x-python",
   "name": "python",
   "nbconvert_exporter": "python",
   "pygments_lexer": "ipython3",
   "version": "3.11.4"
  }
 },
 "nbformat": 4,
 "nbformat_minor": 5
}
